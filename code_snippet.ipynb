{
 "cells": [
  {
   "cell_type": "code",
   "execution_count": null,
   "metadata": {},
   "outputs": [],
   "source": [
    "from .wrapper import * "
   ]
  },
  {
   "cell_type": "code",
   "execution_count": null,
   "metadata": {},
   "outputs": [],
   "source": [
    "wrapper = RealsenseWrapper()\n",
    "RealsenseWrapper.rgbd_stream() #to stream RGB and Depth frames\n",
    "RealsenseWrapper.rgbd_shot() #to take a single RGB and Depth shot and then you can access the frame and save it later through history\n",
    "RealsenseWrapper.headless_shot() #in order to take headless shots in case you want to deploy the realsense camera on a robot"
   ]
  }
 ],
 "metadata": {
  "language_info": {
   "name": "python"
  }
 },
 "nbformat": 4,
 "nbformat_minor": 2
}
